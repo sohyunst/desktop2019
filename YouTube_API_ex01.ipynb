{
 "cells": [
  {
   "cell_type": "markdown",
   "metadata": {},
   "source": [
    "# Collect videos from YouTube TED channel\n",
    "by Sohyun Lee (2019-11-01)"
   ]
  },
  {
   "cell_type": "markdown",
   "metadata": {},
   "source": [
    "* Google Console <br>\n",
    "https://console.developers.google.com/\n",
    "* YouTube > Data API <br>\n",
    "https://developers.google.com/youtube/v3/docs?hl=ko"
   ]
  },
  {
   "cell_type": "code",
   "execution_count": 1,
   "metadata": {},
   "outputs": [],
   "source": [
    "from apiclient.discovery import build\n",
    "from apiclient.errors import HttpError"
   ]
  },
  {
   "cell_type": "code",
   "execution_count": 2,
   "metadata": {},
   "outputs": [],
   "source": [
    "YOUTUBE_API_SERVICE_NAME = \"youtube\"\n",
    "YOUTUBE_API_VERSION = \"v3\"\n",
    "api_key = \"YOUR_API_KEY\"\n",
    "\n",
    "query = \"TED\" # 검색어"
   ]
  },
  {
   "cell_type": "code",
   "execution_count": 3,
   "metadata": {},
   "outputs": [],
   "source": [
    "youtube = build(YOUTUBE_API_SERVICE_NAME, YOUTUBE_API_VERSION, developerKey=api_key)"
   ]
  },
  {
   "cell_type": "code",
   "execution_count": 4,
   "metadata": {},
   "outputs": [],
   "source": [
    "# query를 검색해서 나오는 채널 리스트 추출하기\n",
    "search = youtube.search().list(part='id,snippet',\n",
    "                               q=query,\n",
    "                               type='channel').execute()"
   ]
  },
  {
   "cell_type": "code",
   "execution_count": 5,
   "metadata": {},
   "outputs": [
    {
     "name": "stdout",
     "output_type": "stream",
     "text": [
      "TED\n",
      "TED-Ed\n",
      "TEDx Talks\n",
      "TED на русском языке\n",
      "테드TV\n"
     ]
    }
   ],
   "source": [
    "# query를 검색해서 나오는 채널들의 제목만 추출하기\n",
    "for item in search['items']:\n",
    "    print(item['snippet']['title'])"
   ]
  },
  {
   "cell_type": "code",
   "execution_count": 6,
   "metadata": {},
   "outputs": [],
   "source": [
    "# query를 검색해서 나오는 채널들 중에서 제목이 query와 같은 것의 채널ID만 추출하기\n",
    "for item in search['items']:\n",
    "    if item['snippet']['title'] == query:\n",
    "        channelId = item['id']['channelId']"
   ]
  },
  {
   "cell_type": "code",
   "execution_count": 7,
   "metadata": {},
   "outputs": [
    {
     "data": {
      "text/plain": [
       "'UCAuUUnT6oDeKwE6v1NGQxug'"
      ]
     },
     "execution_count": 7,
     "metadata": {},
     "output_type": "execute_result"
    }
   ],
   "source": [
    "channelId"
   ]
  },
  {
   "cell_type": "code",
   "execution_count": 8,
   "metadata": {},
   "outputs": [],
   "source": [
    "# 채널Id를 이용하여 contentDetails 추출하기\n",
    "channels = youtube.channels().list(id=channelId,\n",
    "                                   part='contentDetails').execute()"
   ]
  },
  {
   "cell_type": "code",
   "execution_count": 9,
   "metadata": {},
   "outputs": [
    {
     "data": {
      "text/plain": [
       "{'kind': 'youtube#channelListResponse',\n",
       " 'etag': '\"j6xRRd8dTPVVptg711_CSPADRfg/XGmwjgD-Fd2KAJyvB1likalEyfA\"',\n",
       " 'pageInfo': {'totalResults': 1, 'resultsPerPage': 1},\n",
       " 'items': [{'kind': 'youtube#channel',\n",
       "   'etag': '\"j6xRRd8dTPVVptg711_CSPADRfg/CGn7ScuedCyywdeBr6kbbe6hBZM\"',\n",
       "   'id': 'UCAuUUnT6oDeKwE6v1NGQxug',\n",
       "   'contentDetails': {'relatedPlaylists': {'uploads': 'UUAuUUnT6oDeKwE6v1NGQxug',\n",
       "     'watchHistory': 'HL',\n",
       "     'watchLater': 'WL'}}}]}"
      ]
     },
     "execution_count": 9,
     "metadata": {},
     "output_type": "execute_result"
    }
   ],
   "source": [
    "channels"
   ]
  },
  {
   "cell_type": "code",
   "execution_count": 10,
   "metadata": {},
   "outputs": [],
   "source": [
    "playlistId = channels['items'][0]['contentDetails']['relatedPlaylists']['uploads']"
   ]
  },
  {
   "cell_type": "code",
   "execution_count": 11,
   "metadata": {},
   "outputs": [
    {
     "data": {
      "text/plain": [
       "'UUAuUUnT6oDeKwE6v1NGQxug'"
      ]
     },
     "execution_count": 11,
     "metadata": {},
     "output_type": "execute_result"
    }
   ],
   "source": [
    "playlistId"
   ]
  },
  {
   "cell_type": "code",
   "execution_count": 12,
   "metadata": {},
   "outputs": [],
   "source": [
    "# 플레이리스트ID를 이용하여 플레이리스트 snippet 추출하기\n",
    "playlistItems = youtube.playlistItems().list(playlistId=playlistId,\n",
    "                                             part='snippet',\n",
    "                                             maxResults=10).execute()"
   ]
  },
  {
   "cell_type": "markdown",
   "metadata": {},
   "source": [
    "# Get titles, video IDs, published dates"
   ]
  },
  {
   "cell_type": "code",
   "execution_count": 14,
   "metadata": {},
   "outputs": [],
   "source": [
    "playlists_request = youtube.playlistItems().list(playlistId=playlistId,\n",
    "                                                 part='snippet',\n",
    "                                                 maxResults=50)"
   ]
  },
  {
   "cell_type": "code",
   "execution_count": 15,
   "metadata": {},
   "outputs": [],
   "source": [
    "idx = 0\n",
    "title = []\n",
    "videoId = []\n",
    "publishedAt = []\n",
    "\n",
    "while playlists_request:\n",
    "    playlists_response = playlists_request.execute()\n",
    "    \n",
    "    for playlist_item in playlists_response[\"items\"]:\n",
    "        title.append(playlist_item[\"snippet\"][\"title\"])\n",
    "        videoId.append(playlist_item[\"snippet\"][\"resourceId\"][\"videoId\"])\n",
    "        publishedAt.append(playlist_item[\"snippet\"]['publishedAt'])\n",
    "        idx += 0\n",
    "        \n",
    "    playlists_request = youtube.playlistItems().list_next(playlists_request, playlists_response)"
   ]
  },
  {
   "cell_type": "code",
   "execution_count": 16,
   "metadata": {},
   "outputs": [],
   "source": [
    "import pandas as pd\n",
    "from datetime import datetime"
   ]
  },
  {
   "cell_type": "code",
   "execution_count": 17,
   "metadata": {},
   "outputs": [],
   "source": [
    "start_2016 = datetime(year=2016, month=1, day=1).strftime('%Y-%m-%dT%H:%M:%SZ')\n",
    "start_2017 = datetime(year=2017, month=1, day=1).strftime('%Y-%m-%dT%H:%M:%SZ')\n",
    "start_2018 = datetime(year=2018, month=1, day=1).strftime('%Y-%m-%dT%H:%M:%SZ')\n",
    "start_2019 = datetime(year=2019, month=1, day=1).strftime('%Y-%m-%dT%H:%M:%SZ')"
   ]
  },
  {
   "cell_type": "markdown",
   "metadata": {},
   "source": [
    "# Get tags, durations, comment counts, like counts, view counts, topics"
   ]
  },
  {
   "cell_type": "code",
   "execution_count": null,
   "metadata": {},
   "outputs": [],
   "source": [
    "videos_list = []\n",
    "\n",
    "for v in range(len(videoId)//50+1):\n",
    "    videos_list.append(','.join(videoId[v*50:(v+1)*50]))\n",
    "    \n",
    "tags = []\n",
    "duration = []\n",
    "commentCount = []\n",
    "dislikeCount = []\n",
    "likeCount = []\n",
    "viewCount = []\n",
    "topic = []\n",
    "    \n",
    "for videos in videos_list:\n",
    "    videos_request = youtube.videos().list(id=videos,\n",
    "                                           part='snippet,contentDetails,player,liveStreamingDetails,recordingDetails,statistics,status,topicDetails',\n",
    "                                           maxResults=50)\n",
    "    videos_response = videos_request.execute()\n",
    "    for videos_item in videos_response[\"items\"]:\n",
    "        #print(videos_item[\"id\"])\n",
    "        tags.append(videos_item[\"snippet\"][\"tags\"])\n",
    "        duration.append(videos_item[\"contentDetails\"][\"duration\"])\n",
    "        \n",
    "        if \"statistics\" in videos_item.keys() :\n",
    "            if \"commentCount\" in videos_item[\"statistics\"].keys():\n",
    "                commentCount.append(videos_item[\"statistics\"][\"commentCount\"])\n",
    "            else :\n",
    "                commentCount.append(None)\n",
    "                \n",
    "            if \"dislikeCount\" in videos_item[\"statistics\"].keys():\n",
    "                dislikeCount.append(videos_item[\"statistics\"][\"dislikeCount\"])\n",
    "            else :\n",
    "                dislikeCount.append(None)\n",
    "\n",
    "            if \"likeCount\" in videos_item[\"statistics\"].keys():\n",
    "                likeCount.append(videos_item[\"statistics\"][\"likeCount\"])\n",
    "            else :\n",
    "                likeCount.append(None)\n",
    "\n",
    "            if \"viewCount\" in videos_item[\"statistics\"].keys():\n",
    "                viewCount.append(videos_item[\"statistics\"][\"viewCount\"])\n",
    "            else :\n",
    "                viewCount.append(None)\n",
    "        else:\n",
    "            commentCount.append(None)\n",
    "            dislikeCount.append(None)\n",
    "            likeCount.append(None)\n",
    "            viewCount.append(None)\n",
    "        \n",
    "        if \"topicDetails\" in videos_item.keys() :\n",
    "            topic.append(videos_item[\"topicDetails\"][\"topicCategories\"])\n",
    "        else:\n",
    "            topic.append(None)\n",
    "        "
   ]
  },
  {
   "cell_type": "markdown",
   "metadata": {},
   "source": [
    "# Save as a dataframe and a csv file"
   ]
  },
  {
   "cell_type": "code",
   "execution_count": 19,
   "metadata": {},
   "outputs": [],
   "source": [
    "df = pd.DataFrame(data={'title': title,\n",
    "                        'videoId': videoId,\n",
    "                        'publishedAt': publishedAt,\n",
    "                        'tags': tags,\n",
    "                        'duration': duration,\n",
    "                        'commentCount': commentCount,\n",
    "                        'dislikeCount': dislikeCount,\n",
    "                        'likeCount': likeCount,\n",
    "                        'viewCount': viewCount,\n",
    "                        'topic': topic\n",
    "                        })"
   ]
  },
  {
   "cell_type": "code",
   "execution_count": 20,
   "metadata": {},
   "outputs": [
    {
     "data": {
      "text/html": [
       "<div>\n",
       "<style scoped>\n",
       "    .dataframe tbody tr th:only-of-type {\n",
       "        vertical-align: middle;\n",
       "    }\n",
       "\n",
       "    .dataframe tbody tr th {\n",
       "        vertical-align: top;\n",
       "    }\n",
       "\n",
       "    .dataframe thead th {\n",
       "        text-align: right;\n",
       "    }\n",
       "</style>\n",
       "<table border=\"1\" class=\"dataframe\">\n",
       "  <thead>\n",
       "    <tr style=\"text-align: right;\">\n",
       "      <th></th>\n",
       "      <th>title</th>\n",
       "      <th>videoId</th>\n",
       "      <th>publishedAt</th>\n",
       "      <th>tags</th>\n",
       "      <th>duration</th>\n",
       "      <th>commentCount</th>\n",
       "      <th>dislikeCount</th>\n",
       "      <th>likeCount</th>\n",
       "      <th>viewCount</th>\n",
       "      <th>topic</th>\n",
       "    </tr>\n",
       "  </thead>\n",
       "  <tbody>\n",
       "    <tr>\n",
       "      <th>3144</th>\n",
       "      <td>Do schools kill creativity? | Sir Ken Robinson</td>\n",
       "      <td>iG9CE55wbtY</td>\n",
       "      <td>2007-01-07T05:00:34.000Z</td>\n",
       "      <td>[Ken, Robinson, TED, TEDTalks, Talks, TED2006,...</td>\n",
       "      <td>PT20M4S</td>\n",
       "      <td>10142</td>\n",
       "      <td>3110</td>\n",
       "      <td>183768</td>\n",
       "      <td>17836967</td>\n",
       "      <td>[https://en.wikipedia.org/wiki/Entertainment, ...</td>\n",
       "    </tr>\n",
       "    <tr>\n",
       "      <th>3145</th>\n",
       "      <td>Greening the ghetto | Majora Carter</td>\n",
       "      <td>gQ-cZRmHfs4</td>\n",
       "      <td>2007-01-07T04:18:33.000Z</td>\n",
       "      <td>[Majora, Carter, TED, TEDTalks, TED2006, Susta...</td>\n",
       "      <td>PT19M16S</td>\n",
       "      <td>81</td>\n",
       "      <td>46</td>\n",
       "      <td>1260</td>\n",
       "      <td>151843</td>\n",
       "      <td>[https://en.wikipedia.org/wiki/Entertainment, ...</td>\n",
       "    </tr>\n",
       "    <tr>\n",
       "      <th>3146</th>\n",
       "      <td>Dean Ornish: The world's killer diet</td>\n",
       "      <td>RTIY66IPjdY</td>\n",
       "      <td>2007-01-06T23:47:40.000Z</td>\n",
       "      <td>[Dean, Ornish, TED, Conference, TED2006, TEDTa...</td>\n",
       "      <td>PT3M35S</td>\n",
       "      <td>73</td>\n",
       "      <td>46</td>\n",
       "      <td>516</td>\n",
       "      <td>96608</td>\n",
       "      <td>[https://en.wikipedia.org/wiki/Society]</td>\n",
       "    </tr>\n",
       "    <tr>\n",
       "      <th>3147</th>\n",
       "      <td>Secrets of success in 8 words, 3 minutes | Ric...</td>\n",
       "      <td>Y6bbMQXQ180</td>\n",
       "      <td>2007-01-06T19:53:49.000Z</td>\n",
       "      <td>[Richard St. John, Richard John, TED, TEDTalks...</td>\n",
       "      <td>PT3M47S</td>\n",
       "      <td>468</td>\n",
       "      <td>472</td>\n",
       "      <td>27469</td>\n",
       "      <td>2253298</td>\n",
       "      <td>[https://en.wikipedia.org/wiki/Society]</td>\n",
       "    </tr>\n",
       "    <tr>\n",
       "      <th>3148</th>\n",
       "      <td>If I controlled the Internet | Rives</td>\n",
       "      <td>gu_PQBmk-6c</td>\n",
       "      <td>2006-12-25T17:58:08.000Z</td>\n",
       "      <td>[Rives, TED, TEDTalks, talks, spoken word, def...</td>\n",
       "      <td>PT4M17S</td>\n",
       "      <td>215</td>\n",
       "      <td>144</td>\n",
       "      <td>2906</td>\n",
       "      <td>332212</td>\n",
       "      <td>[https://en.wikipedia.org/wiki/Entertainment]</td>\n",
       "    </tr>\n",
       "  </tbody>\n",
       "</table>\n",
       "</div>"
      ],
      "text/plain": [
       "                                                  title      videoId  \\\n",
       "3144     Do schools kill creativity? | Sir Ken Robinson  iG9CE55wbtY   \n",
       "3145                Greening the ghetto | Majora Carter  gQ-cZRmHfs4   \n",
       "3146               Dean Ornish: The world's killer diet  RTIY66IPjdY   \n",
       "3147  Secrets of success in 8 words, 3 minutes | Ric...  Y6bbMQXQ180   \n",
       "3148               If I controlled the Internet | Rives  gu_PQBmk-6c   \n",
       "\n",
       "                   publishedAt  \\\n",
       "3144  2007-01-07T05:00:34.000Z   \n",
       "3145  2007-01-07T04:18:33.000Z   \n",
       "3146  2007-01-06T23:47:40.000Z   \n",
       "3147  2007-01-06T19:53:49.000Z   \n",
       "3148  2006-12-25T17:58:08.000Z   \n",
       "\n",
       "                                                   tags  duration  \\\n",
       "3144  [Ken, Robinson, TED, TEDTalks, Talks, TED2006,...   PT20M4S   \n",
       "3145  [Majora, Carter, TED, TEDTalks, TED2006, Susta...  PT19M16S   \n",
       "3146  [Dean, Ornish, TED, Conference, TED2006, TEDTa...   PT3M35S   \n",
       "3147  [Richard St. John, Richard John, TED, TEDTalks...   PT3M47S   \n",
       "3148  [Rives, TED, TEDTalks, talks, spoken word, def...   PT4M17S   \n",
       "\n",
       "     commentCount dislikeCount likeCount viewCount  \\\n",
       "3144        10142         3110    183768  17836967   \n",
       "3145           81           46      1260    151843   \n",
       "3146           73           46       516     96608   \n",
       "3147          468          472     27469   2253298   \n",
       "3148          215          144      2906    332212   \n",
       "\n",
       "                                                  topic  \n",
       "3144  [https://en.wikipedia.org/wiki/Entertainment, ...  \n",
       "3145  [https://en.wikipedia.org/wiki/Entertainment, ...  \n",
       "3146            [https://en.wikipedia.org/wiki/Society]  \n",
       "3147            [https://en.wikipedia.org/wiki/Society]  \n",
       "3148      [https://en.wikipedia.org/wiki/Entertainment]  "
      ]
     },
     "execution_count": 20,
     "metadata": {},
     "output_type": "execute_result"
    }
   ],
   "source": [
    "df.tail()"
   ]
  },
  {
   "cell_type": "code",
   "execution_count": 21,
   "metadata": {},
   "outputs": [
    {
     "data": {
      "text/plain": [
       "3149"
      ]
     },
     "execution_count": 21,
     "metadata": {},
     "output_type": "execute_result"
    }
   ],
   "source": [
    "len(df)"
   ]
  },
  {
   "cell_type": "code",
   "execution_count": 22,
   "metadata": {},
   "outputs": [],
   "source": [
    "# CSV 파일로 추출\n",
    "df.to_csv('ted_df1.csv')"
   ]
  },
  {
   "cell_type": "markdown",
   "metadata": {},
   "source": [
    "# Get comments from top 10 video IDs"
   ]
  },
  {
   "cell_type": "code",
   "execution_count": 19,
   "metadata": {},
   "outputs": [],
   "source": [
    "def get_comment_threads(youtube, video_id, comments):\n",
    "    threads = []\n",
    "    results = youtube.commentThreads().list(\n",
    "        part=\"snippet\",\n",
    "        videoId=video_id,\n",
    "        textFormat=\"plainText\"\n",
    "    ).execute()\n",
    "    \n",
    "    # Get the first set of comments\n",
    "    for item in results[\"items\"]:\n",
    "        threads.append(item)\n",
    "        comment = item[\"snippet\"][\"topLevelComment\"]\n",
    "        text = comment[\"snippet\"][\"textDisplay\"]\n",
    "        comments.append(text)\n",
    "    \n",
    "    # Keep getting comments from the following pages\n",
    "    while (\"nextPageToken\" in results):\n",
    "        results = youtube.commentThreads().list(\n",
    "            part=\"snippet\",\n",
    "            videoId=video_id,\n",
    "            pageToken=results[\"nextPageToken\"],\n",
    "            textFormat=\"plainText\"\n",
    "        ).execute()\n",
    "    for item in results[\"items\"]:\n",
    "        threads.append(item)\n",
    "        comment = item[\"snippet\"][\"topLevelComment\"]\n",
    "        text = comment[\"snippet\"][\"textDisplay\"]\n",
    "        comments.append(text)\n",
    "        \n",
    "    print(\"Total threads: %d\" % len(threads))\n",
    "    \n",
    "    return threads\n"
   ]
  },
  {
   "cell_type": "code",
   "execution_count": 20,
   "metadata": {},
   "outputs": [],
   "source": [
    "def get_comments(youtube, parent_id, comments):\n",
    "    results = youtube.comments().list(\n",
    "        part=\"snippet\",\n",
    "        parentId=parent_id,\n",
    "        textFormat=\"plainText\"\n",
    "    ).execute()\n",
    "    \n",
    "    for item in results[\"items\"]:\n",
    "        text = item[\"snippet\"][\"textDisplay\"]\n",
    "        comments.append(text)\n",
    "\n",
    "    return comments\n"
   ]
  },
  {
   "cell_type": "code",
   "execution_count": null,
   "metadata": {},
   "outputs": [],
   "source": [
    "video_id_tmp = videoId[:10]\n",
    "vd_commnet = {}\n",
    "i = 0\n",
    "\n",
    "for video in video_id_tmp:\n",
    "    comments = []\n",
    "\n",
    "    video_comment_threads = get_comment_threads(youtube, video, comments)\n",
    "\n",
    "    for thread in video_comment_threads:\n",
    "        if thread['snippet']['totalReplyCount'] > 0:\n",
    "            get_comments(youtube, thread[\"id\"], comments)\n",
    "            i += 1\n",
    "            \n",
    "    vd_commnet[video] = comments\n",
    "    print(\"i:\", i)\n",
    "    print(\"videoId:\", videoId[i])\n",
    "    print(\"Total comments: %d \\n\" % len(comments))"
   ]
  },
  {
   "cell_type": "code",
   "execution_count": null,
   "metadata": {},
   "outputs": [],
   "source": [
    "comments"
   ]
  },
  {
   "cell_type": "code",
   "execution_count": null,
   "metadata": {},
   "outputs": [],
   "source": [
    "len(comments)"
   ]
  },
  {
   "cell_type": "markdown",
   "metadata": {},
   "source": [
    "# Save as a dataframe and a csv file"
   ]
  },
  {
   "cell_type": "code",
   "execution_count": 27,
   "metadata": {},
   "outputs": [],
   "source": [
    "# 일단... 첫 번째 동영상에 대한 댓글만 저장하기\n",
    "comments_dict = dict()\n",
    "comments_dict[videoId[0]] = comments"
   ]
  },
  {
   "cell_type": "code",
   "execution_count": 28,
   "metadata": {},
   "outputs": [],
   "source": [
    "# index가 videoId인 DataFrame으로 만들기\n",
    "comments_df = pd.DataFrame.from_dict(comments_dict, orient='index')"
   ]
  },
  {
   "cell_type": "code",
   "execution_count": 29,
   "metadata": {},
   "outputs": [
    {
     "data": {
      "text/html": [
       "<div>\n",
       "<style scoped>\n",
       "    .dataframe tbody tr th:only-of-type {\n",
       "        vertical-align: middle;\n",
       "    }\n",
       "\n",
       "    .dataframe tbody tr th {\n",
       "        vertical-align: top;\n",
       "    }\n",
       "\n",
       "    .dataframe thead th {\n",
       "        text-align: right;\n",
       "    }\n",
       "</style>\n",
       "<table border=\"1\" class=\"dataframe\">\n",
       "  <thead>\n",
       "    <tr style=\"text-align: right;\">\n",
       "      <th></th>\n",
       "      <th>0</th>\n",
       "      <th>1</th>\n",
       "      <th>2</th>\n",
       "      <th>3</th>\n",
       "      <th>4</th>\n",
       "      <th>5</th>\n",
       "      <th>6</th>\n",
       "      <th>7</th>\n",
       "      <th>8</th>\n",
       "      <th>9</th>\n",
       "      <th>...</th>\n",
       "      <th>34</th>\n",
       "      <th>35</th>\n",
       "      <th>36</th>\n",
       "      <th>37</th>\n",
       "      <th>38</th>\n",
       "      <th>39</th>\n",
       "      <th>40</th>\n",
       "      <th>41</th>\n",
       "      <th>42</th>\n",
       "      <th>43</th>\n",
       "    </tr>\n",
       "  </thead>\n",
       "  <tbody>\n",
       "    <tr>\n",
       "      <th>idfv7Lw4Y_s</th>\n",
       "      <td>I seen one on ancient alien it's one of the se...</td>\n",
       "      <td>Stay in your lane, lady.</td>\n",
       "      <td>:35 have we not found signs of life in Mars?</td>\n",
       "      <td>I thought geyserite takes two dudes to correct...</td>\n",
       "      <td>Can I watch one ted talk without the mention o...</td>\n",
       "      <td>Excelente explicação.</td>\n",
       "      <td>would it mean that then life should be apperin...</td>\n",
       "      <td>you cant stop the environmental damage because...</td>\n",
       "      <td>It's a amazing discovery.</td>\n",
       "      <td>TED is the amazing YouTube channel.\\nYour fact...</td>\n",
       "      <td>...</td>\n",
       "      <td>@Flavius Stilicho cool it buddy, I believe in ...</td>\n",
       "      <td>What about the Spaghetti Monster or Zeus or Da...</td>\n",
       "      <td>@Flavius Stilicho You need to read the bible &amp;...</td>\n",
       "      <td>@Flavius Stilicho Abraham didn't murder his so...</td>\n",
       "      <td>@Soso Saady wooow that's neat.. we call the Am...</td>\n",
       "      <td>@Tinman Bigfoot Tracker Channel. \\nDear..I am ...</td>\n",
       "      <td>هله حبي اني من الكوفة.</td>\n",
       "      <td>Ali, \\nDo you have history stories on being's ...</td>\n",
       "      <td>Hullo I’m from UK</td>\n",
       "      <td>Welcome</td>\n",
       "    </tr>\n",
       "  </tbody>\n",
       "</table>\n",
       "<p>1 rows × 44 columns</p>\n",
       "</div>"
      ],
      "text/plain": [
       "                                                            0   \\\n",
       "idfv7Lw4Y_s  I seen one on ancient alien it's one of the se...   \n",
       "\n",
       "                                   1   \\\n",
       "idfv7Lw4Y_s  Stay in your lane, lady.   \n",
       "\n",
       "                                                       2   \\\n",
       "idfv7Lw4Y_s  :35 have we not found signs of life in Mars?   \n",
       "\n",
       "                                                            3   \\\n",
       "idfv7Lw4Y_s  I thought geyserite takes two dudes to correct...   \n",
       "\n",
       "                                                            4   \\\n",
       "idfv7Lw4Y_s  Can I watch one ted talk without the mention o...   \n",
       "\n",
       "                                5   \\\n",
       "idfv7Lw4Y_s  Excelente explicação.   \n",
       "\n",
       "                                                            6   \\\n",
       "idfv7Lw4Y_s  would it mean that then life should be apperin...   \n",
       "\n",
       "                                                            7   \\\n",
       "idfv7Lw4Y_s  you cant stop the environmental damage because...   \n",
       "\n",
       "                                    8   \\\n",
       "idfv7Lw4Y_s  It's a amazing discovery.   \n",
       "\n",
       "                                                            9   ...  \\\n",
       "idfv7Lw4Y_s  TED is the amazing YouTube channel.\\nYour fact...  ...   \n",
       "\n",
       "                                                            34  \\\n",
       "idfv7Lw4Y_s  @Flavius Stilicho cool it buddy, I believe in ...   \n",
       "\n",
       "                                                            35  \\\n",
       "idfv7Lw4Y_s  What about the Spaghetti Monster or Zeus or Da...   \n",
       "\n",
       "                                                            36  \\\n",
       "idfv7Lw4Y_s  @Flavius Stilicho You need to read the bible &...   \n",
       "\n",
       "                                                            37  \\\n",
       "idfv7Lw4Y_s  @Flavius Stilicho Abraham didn't murder his so...   \n",
       "\n",
       "                                                            38  \\\n",
       "idfv7Lw4Y_s  @Soso Saady wooow that's neat.. we call the Am...   \n",
       "\n",
       "                                                            39  \\\n",
       "idfv7Lw4Y_s  @Tinman Bigfoot Tracker Channel. \\nDear..I am ...   \n",
       "\n",
       "                                 40  \\\n",
       "idfv7Lw4Y_s  هله حبي اني من الكوفة.   \n",
       "\n",
       "                                                            41  \\\n",
       "idfv7Lw4Y_s  Ali, \\nDo you have history stories on being's ...   \n",
       "\n",
       "                            42       43  \n",
       "idfv7Lw4Y_s  Hullo I’m from UK  Welcome  \n",
       "\n",
       "[1 rows x 44 columns]"
      ]
     },
     "execution_count": 29,
     "metadata": {},
     "output_type": "execute_result"
    }
   ],
   "source": [
    "comments_df"
   ]
  },
  {
   "cell_type": "code",
   "execution_count": 30,
   "metadata": {},
   "outputs": [],
   "source": [
    "# CSV 파일로 추출\n",
    "comments_df.to_csv('ted_comments_df1.csv')"
   ]
  },
  {
   "cell_type": "code",
   "execution_count": null,
   "metadata": {},
   "outputs": [],
   "source": []
  }
 ],
 "metadata": {
  "kernelspec": {
   "display_name": "Python 3",
   "language": "python",
   "name": "python3"
  },
  "language_info": {
   "codemirror_mode": {
    "name": "ipython",
    "version": 3
   },
   "file_extension": ".py",
   "mimetype": "text/x-python",
   "name": "python",
   "nbconvert_exporter": "python",
   "pygments_lexer": "ipython3",
   "version": "3.6.8"
  }
 },
 "nbformat": 4,
 "nbformat_minor": 2
}
