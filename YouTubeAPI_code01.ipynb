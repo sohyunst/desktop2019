{
 "cells": [
  {
   "cell_type": "markdown",
   "metadata": {},
   "source": [
    "# Collect videos from YouTube TED channel"
   ]
  },
  {
   "cell_type": "markdown",
   "metadata": {},
   "source": [
    "* Google Console <br>\n",
    "https://console.developers.google.com/\n",
    "* YouTube > Data API <br>\n",
    "https://developers.google.com/youtube/v3/docs?hl=ko"
   ]
  },
  {
   "cell_type": "code",
   "execution_count": 1,
   "metadata": {},
   "outputs": [],
   "source": [
    "from apiclient.discovery import build\n",
    "from apiclient.errors import HttpError\n",
    "\n",
    "import pandas as pd"
   ]
  },
  {
   "cell_type": "code",
   "execution_count": 2,
   "metadata": {},
   "outputs": [],
   "source": [
    "YOUTUBE_API_SERVICE_NAME = \"youtube\"\n",
    "YOUTUBE_API_VERSION = \"v3\"\n",
    "api_key = \"YOUR_API_KEY\"\n",
    "\n",
    "TED = \"TED\"\n",
    "# SEBASI = \"세바시\""
   ]
  },
  {
   "cell_type": "code",
   "execution_count": 3,
   "metadata": {},
   "outputs": [],
   "source": [
    "youtube = build(YOUTUBE_API_SERVICE_NAME, YOUTUBE_API_VERSION, developerKey=api_key)"
   ]
  },
  {
   "cell_type": "code",
   "execution_count": 4,
   "metadata": {},
   "outputs": [],
   "source": [
    "import json\n",
    "\n",
    "# A helper function to pretty-print Python objects as JSON\n",
    "def pp(o):\n",
    "    print(json.dumps(o, indent=1), \"\\n\")"
   ]
  },
  {
   "cell_type": "code",
   "execution_count": 5,
   "metadata": {},
   "outputs": [],
   "source": [
    "# \"TED\"로 검색해서 나오는 채널 추출하기\n",
    "search = youtube.search().list(part='id,snippet',\n",
    "                               q=TED,\n",
    "                               type='channel').execute()"
   ]
  },
  {
   "cell_type": "code",
   "execution_count": 6,
   "metadata": {},
   "outputs": [
    {
     "name": "stdout",
     "output_type": "stream",
     "text": [
      "TED\n",
      "TED-Ed\n",
      "TEDx Talks\n",
      "TED на русском языке\n",
      "테드TV\n"
     ]
    }
   ],
   "source": [
    "# \"TED\"로 검색해서 나오는 채널들의 제목만 추출하기\n",
    "for item in search['items']:\n",
    "    print(item['snippet']['title'])"
   ]
  },
  {
   "cell_type": "code",
   "execution_count": 7,
   "metadata": {},
   "outputs": [],
   "source": [
    "# \"TED\"로 검색해서 나오는 채널들 중에서 \"TED\"라는 이름의 채널ID만 추출하기\n",
    "for item in search['items']:\n",
    "    if item['snippet']['title'] == TED:\n",
    "        channelId = item['id']['channelId']"
   ]
  },
  {
   "cell_type": "code",
   "execution_count": 8,
   "metadata": {},
   "outputs": [
    {
     "data": {
      "text/plain": [
       "'UCAuUUnT6oDeKwE6v1NGQxug'"
      ]
     },
     "execution_count": 8,
     "metadata": {},
     "output_type": "execute_result"
    }
   ],
   "source": [
    "channelId"
   ]
  },
  {
   "cell_type": "code",
   "execution_count": 9,
   "metadata": {},
   "outputs": [],
   "source": [
    "# \"TED\" 채널Id를 이용하여 contentDetails 추출하기\n",
    "channels = youtube.channels().list(id=channelId,\n",
    "                                   part='contentDetails').execute()"
   ]
  },
  {
   "cell_type": "code",
   "execution_count": 10,
   "metadata": {},
   "outputs": [
    {
     "data": {
      "text/plain": [
       "{'kind': 'youtube#channelListResponse',\n",
       " 'etag': '\"j6xRRd8dTPVVptg711_CSPADRfg/NU_1JdYaEbVTACX0Q6upOIxHVM0\"',\n",
       " 'pageInfo': {'totalResults': 1, 'resultsPerPage': 1},\n",
       " 'items': [{'kind': 'youtube#channel',\n",
       "   'etag': '\"j6xRRd8dTPVVptg711_CSPADRfg/CGn7ScuedCyywdeBr6kbbe6hBZM\"',\n",
       "   'id': 'UCAuUUnT6oDeKwE6v1NGQxug',\n",
       "   'contentDetails': {'relatedPlaylists': {'uploads': 'UUAuUUnT6oDeKwE6v1NGQxug',\n",
       "     'watchHistory': 'HL',\n",
       "     'watchLater': 'WL'}}}]}"
      ]
     },
     "execution_count": 10,
     "metadata": {},
     "output_type": "execute_result"
    }
   ],
   "source": [
    "channels"
   ]
  },
  {
   "cell_type": "code",
   "execution_count": 11,
   "metadata": {},
   "outputs": [],
   "source": [
    "playlistId = channels['items'][0]['contentDetails']['relatedPlaylists']['uploads']"
   ]
  },
  {
   "cell_type": "code",
   "execution_count": 12,
   "metadata": {},
   "outputs": [
    {
     "data": {
      "text/plain": [
       "'UUAuUUnT6oDeKwE6v1NGQxug'"
      ]
     },
     "execution_count": 12,
     "metadata": {},
     "output_type": "execute_result"
    }
   ],
   "source": [
    "playlistId"
   ]
  },
  {
   "cell_type": "code",
   "execution_count": 13,
   "metadata": {},
   "outputs": [],
   "source": [
    "# \"TED\" 플레이리스트ID를 이용하여 플레이리스트 snippet 추출하기\n",
    "playlistItems = youtube.playlistItems().list(playlistId=playlistId,\n",
    "                                             part='snippet',\n",
    "                                             maxResults=10).execute()"
   ]
  },
  {
   "cell_type": "markdown",
   "metadata": {},
   "source": [
    "# Get titles, video ids, published dates, description from TED channel"
   ]
  },
  {
   "cell_type": "code",
   "execution_count": 14,
   "metadata": {},
   "outputs": [],
   "source": [
    "playlists_request = youtube.playlistItems().list(playlistId=playlistId,\n",
    "                                                 part='snippet',\n",
    "                                                 maxResults=50)"
   ]
  },
  {
   "cell_type": "code",
   "execution_count": 15,
   "metadata": {},
   "outputs": [],
   "source": [
    "idx = 0\n",
    "title = []\n",
    "videoId = []\n",
    "publishedAt = []\n",
    "description = []\n",
    "\n",
    "while playlists_request:\n",
    "    playlists_response = playlists_request.execute()\n",
    "    \n",
    "    for playlist_item in playlists_response[\"items\"]:\n",
    "        title.append(playlist_item[\"snippet\"][\"title\"])\n",
    "        videoId.append(playlist_item[\"snippet\"][\"resourceId\"][\"videoId\"])\n",
    "        publishedAt.append(playlist_item[\"snippet\"]['publishedAt'])\n",
    "        description.append(playlist_item[\"snippet\"]['description'])\n",
    "        idx += 0\n",
    "        \n",
    "    playlists_request = youtube.playlistItems().list_next(playlists_request, playlists_response)"
   ]
  },
  {
   "cell_type": "markdown",
   "metadata": {},
   "source": [
    "# Get tags, durations, comment counts, like counts, view counts, topics from TED videos"
   ]
  },
  {
   "cell_type": "code",
   "execution_count": 16,
   "metadata": {},
   "outputs": [],
   "source": [
    "videos_list = []\n",
    "\n",
    "for v in range(len(videoId)//50+1):\n",
    "    videos_list.append(','.join(videoId[v*50:(v+1)*50]))\n",
    "    \n",
    "tags = []\n",
    "duration = []\n",
    "commentCount = []\n",
    "dislikeCount = []\n",
    "likeCount = []\n",
    "viewCount = []\n",
    "topic = []\n",
    "    \n",
    "for videos in videos_list:\n",
    "    videos_request = youtube.videos().list(id=videos,\n",
    "                                           part='snippet,contentDetails,player,liveStreamingDetails,recordingDetails,statistics,status,topicDetails',\n",
    "                                           maxResults=50)\n",
    "    videos_response = videos_request.execute()\n",
    "    for videos_item in videos_response[\"items\"]:\n",
    "        #print(videos_item[\"id\"])\n",
    "        tags.append(videos_item[\"snippet\"][\"tags\"])\n",
    "        duration.append(videos_item[\"contentDetails\"][\"duration\"])\n",
    "        \n",
    "        if \"statistics\" in videos_item.keys() :\n",
    "            if \"commentCount\" in videos_item[\"statistics\"].keys():\n",
    "                commentCount.append(videos_item[\"statistics\"][\"commentCount\"])\n",
    "            else :\n",
    "                commentCount.append(None)\n",
    "                \n",
    "            if \"dislikeCount\" in videos_item[\"statistics\"].keys():\n",
    "                dislikeCount.append(videos_item[\"statistics\"][\"dislikeCount\"])\n",
    "            else :\n",
    "                dislikeCount.append(None)\n",
    "\n",
    "            if \"likeCount\" in videos_item[\"statistics\"].keys():\n",
    "                likeCount.append(videos_item[\"statistics\"][\"likeCount\"])\n",
    "            else :\n",
    "                likeCount.append(None)\n",
    "\n",
    "            if \"viewCount\" in videos_item[\"statistics\"].keys():\n",
    "                viewCount.append(videos_item[\"statistics\"][\"viewCount\"])\n",
    "            else :\n",
    "                viewCount.append(None)\n",
    "        else:\n",
    "            commentCount.append(None)\n",
    "            dislikeCount.append(None)\n",
    "            likeCount.append(None)\n",
    "            viewCount.append(None)\n",
    "        \n",
    "        if \"topicDetails\" in videos_item.keys() :\n",
    "            topic.append(videos_item[\"topicDetails\"][\"topicCategories\"])\n",
    "        else:\n",
    "            topic.append(None)\n",
    "        "
   ]
  },
  {
   "cell_type": "markdown",
   "metadata": {},
   "source": [
    "# Save as a dataframe and a csv file"
   ]
  },
  {
   "cell_type": "code",
   "execution_count": 18,
   "metadata": {},
   "outputs": [],
   "source": [
    "df = pd.DataFrame(data={'title': title,\n",
    "                        'videoId': videoId,\n",
    "                        'publishedAt': publishedAt,\n",
    "                        'description': description,\n",
    "                        'tags': tags,\n",
    "                        'duration': duration,\n",
    "                        'commentCount': commentCount,\n",
    "                        'dislikeCount': dislikeCount,\n",
    "                        'likeCount': likeCount,\n",
    "                        'viewCount': viewCount,\n",
    "                        'topic': topic\n",
    "                        })"
   ]
  },
  {
   "cell_type": "code",
   "execution_count": 19,
   "metadata": {},
   "outputs": [
    {
     "data": {
      "text/html": [
       "<div>\n",
       "<style scoped>\n",
       "    .dataframe tbody tr th:only-of-type {\n",
       "        vertical-align: middle;\n",
       "    }\n",
       "\n",
       "    .dataframe tbody tr th {\n",
       "        vertical-align: top;\n",
       "    }\n",
       "\n",
       "    .dataframe thead th {\n",
       "        text-align: right;\n",
       "    }\n",
       "</style>\n",
       "<table border=\"1\" class=\"dataframe\">\n",
       "  <thead>\n",
       "    <tr style=\"text-align: right;\">\n",
       "      <th></th>\n",
       "      <th>title</th>\n",
       "      <th>videoId</th>\n",
       "      <th>publishedAt</th>\n",
       "      <th>description</th>\n",
       "      <th>tags</th>\n",
       "      <th>duration</th>\n",
       "      <th>commentCount</th>\n",
       "      <th>dislikeCount</th>\n",
       "      <th>likeCount</th>\n",
       "      <th>viewCount</th>\n",
       "      <th>topic</th>\n",
       "    </tr>\n",
       "  </thead>\n",
       "  <tbody>\n",
       "    <tr>\n",
       "      <th>3147</th>\n",
       "      <td>Do schools kill creativity? | Sir Ken Robinson</td>\n",
       "      <td>iG9CE55wbtY</td>\n",
       "      <td>2007-01-07T05:00:34.000Z</td>\n",
       "      <td>Sir Ken Robinson makes an entertaining and pro...</td>\n",
       "      <td>[Ken, Robinson, TED, TEDTalks, Talks, TED2006,...</td>\n",
       "      <td>PT20M4S</td>\n",
       "      <td>10141</td>\n",
       "      <td>3114</td>\n",
       "      <td>183889</td>\n",
       "      <td>17846400</td>\n",
       "      <td>[https://en.wikipedia.org/wiki/Television_prog...</td>\n",
       "    </tr>\n",
       "    <tr>\n",
       "      <th>3148</th>\n",
       "      <td>Greening the ghetto | Majora Carter</td>\n",
       "      <td>gQ-cZRmHfs4</td>\n",
       "      <td>2007-01-07T04:18:33.000Z</td>\n",
       "      <td>http://www.ted.com  In an emotionally charged ...</td>\n",
       "      <td>[Majora, Carter, TED, TEDTalks, TED2006, Susta...</td>\n",
       "      <td>PT19M16S</td>\n",
       "      <td>81</td>\n",
       "      <td>46</td>\n",
       "      <td>1261</td>\n",
       "      <td>151888</td>\n",
       "      <td>[https://en.wikipedia.org/wiki/Entertainment, ...</td>\n",
       "    </tr>\n",
       "    <tr>\n",
       "      <th>3149</th>\n",
       "      <td>Dean Ornish: The world's killer diet</td>\n",
       "      <td>RTIY66IPjdY</td>\n",
       "      <td>2007-01-06T23:47:40.000Z</td>\n",
       "      <td>http://www.ted.com  Stop wringing your hands o...</td>\n",
       "      <td>[Dean, Ornish, TED, Conference, TED2006, TEDTa...</td>\n",
       "      <td>PT3M35S</td>\n",
       "      <td>73</td>\n",
       "      <td>46</td>\n",
       "      <td>516</td>\n",
       "      <td>96635</td>\n",
       "      <td>[https://en.wikipedia.org/wiki/Society]</td>\n",
       "    </tr>\n",
       "    <tr>\n",
       "      <th>3150</th>\n",
       "      <td>Secrets of success in 8 words, 3 minutes | Ric...</td>\n",
       "      <td>Y6bbMQXQ180</td>\n",
       "      <td>2007-01-06T19:53:49.000Z</td>\n",
       "      <td>http://www.ted.com  Why do people succeed? Is ...</td>\n",
       "      <td>[Richard St. John, Richard John, TED, TEDTalks...</td>\n",
       "      <td>PT3M47S</td>\n",
       "      <td>468</td>\n",
       "      <td>473</td>\n",
       "      <td>27518</td>\n",
       "      <td>2255409</td>\n",
       "      <td>[https://en.wikipedia.org/wiki/Society]</td>\n",
       "    </tr>\n",
       "    <tr>\n",
       "      <th>3151</th>\n",
       "      <td>If I controlled the Internet | Rives</td>\n",
       "      <td>gu_PQBmk-6c</td>\n",
       "      <td>2006-12-25T17:58:08.000Z</td>\n",
       "      <td>http://www.ted.com  How many poets could cram ...</td>\n",
       "      <td>[Rives, TED, TEDTalks, talks, spoken word, def...</td>\n",
       "      <td>PT4M17S</td>\n",
       "      <td>216</td>\n",
       "      <td>145</td>\n",
       "      <td>2907</td>\n",
       "      <td>332258</td>\n",
       "      <td>[https://en.wikipedia.org/wiki/Entertainment]</td>\n",
       "    </tr>\n",
       "  </tbody>\n",
       "</table>\n",
       "</div>"
      ],
      "text/plain": [
       "                                                  title      videoId  \\\n",
       "3147     Do schools kill creativity? | Sir Ken Robinson  iG9CE55wbtY   \n",
       "3148                Greening the ghetto | Majora Carter  gQ-cZRmHfs4   \n",
       "3149               Dean Ornish: The world's killer diet  RTIY66IPjdY   \n",
       "3150  Secrets of success in 8 words, 3 minutes | Ric...  Y6bbMQXQ180   \n",
       "3151               If I controlled the Internet | Rives  gu_PQBmk-6c   \n",
       "\n",
       "                   publishedAt  \\\n",
       "3147  2007-01-07T05:00:34.000Z   \n",
       "3148  2007-01-07T04:18:33.000Z   \n",
       "3149  2007-01-06T23:47:40.000Z   \n",
       "3150  2007-01-06T19:53:49.000Z   \n",
       "3151  2006-12-25T17:58:08.000Z   \n",
       "\n",
       "                                            description  \\\n",
       "3147  Sir Ken Robinson makes an entertaining and pro...   \n",
       "3148  http://www.ted.com  In an emotionally charged ...   \n",
       "3149  http://www.ted.com  Stop wringing your hands o...   \n",
       "3150  http://www.ted.com  Why do people succeed? Is ...   \n",
       "3151  http://www.ted.com  How many poets could cram ...   \n",
       "\n",
       "                                                   tags  duration  \\\n",
       "3147  [Ken, Robinson, TED, TEDTalks, Talks, TED2006,...   PT20M4S   \n",
       "3148  [Majora, Carter, TED, TEDTalks, TED2006, Susta...  PT19M16S   \n",
       "3149  [Dean, Ornish, TED, Conference, TED2006, TEDTa...   PT3M35S   \n",
       "3150  [Richard St. John, Richard John, TED, TEDTalks...   PT3M47S   \n",
       "3151  [Rives, TED, TEDTalks, talks, spoken word, def...   PT4M17S   \n",
       "\n",
       "     commentCount dislikeCount likeCount viewCount  \\\n",
       "3147        10141         3114    183889  17846400   \n",
       "3148           81           46      1261    151888   \n",
       "3149           73           46       516     96635   \n",
       "3150          468          473     27518   2255409   \n",
       "3151          216          145      2907    332258   \n",
       "\n",
       "                                                  topic  \n",
       "3147  [https://en.wikipedia.org/wiki/Television_prog...  \n",
       "3148  [https://en.wikipedia.org/wiki/Entertainment, ...  \n",
       "3149            [https://en.wikipedia.org/wiki/Society]  \n",
       "3150            [https://en.wikipedia.org/wiki/Society]  \n",
       "3151      [https://en.wikipedia.org/wiki/Entertainment]  "
      ]
     },
     "execution_count": 19,
     "metadata": {},
     "output_type": "execute_result"
    }
   ],
   "source": [
    "df.tail()"
   ]
  },
  {
   "cell_type": "code",
   "execution_count": 20,
   "metadata": {},
   "outputs": [
    {
     "data": {
      "text/plain": [
       "3152"
      ]
     },
     "execution_count": 20,
     "metadata": {},
     "output_type": "execute_result"
    }
   ],
   "source": [
    "len(df)"
   ]
  },
  {
   "cell_type": "code",
   "execution_count": 21,
   "metadata": {},
   "outputs": [],
   "source": [
    "# CSV 파일로 추출\n",
    "df.to_csv('ted_df3.csv')"
   ]
  },
  {
   "cell_type": "markdown",
   "metadata": {},
   "source": [
    "# Read video ids from csv file"
   ]
  },
  {
   "cell_type": "code",
   "execution_count": 6,
   "metadata": {},
   "outputs": [
    {
     "data": {
      "text/html": [
       "<div>\n",
       "<style scoped>\n",
       "    .dataframe tbody tr th:only-of-type {\n",
       "        vertical-align: middle;\n",
       "    }\n",
       "\n",
       "    .dataframe tbody tr th {\n",
       "        vertical-align: top;\n",
       "    }\n",
       "\n",
       "    .dataframe thead th {\n",
       "        text-align: right;\n",
       "    }\n",
       "</style>\n",
       "<table border=\"1\" class=\"dataframe\">\n",
       "  <thead>\n",
       "    <tr style=\"text-align: right;\">\n",
       "      <th></th>\n",
       "      <th>Unnamed: 0</th>\n",
       "      <th>title</th>\n",
       "      <th>videoId</th>\n",
       "      <th>publishedAt</th>\n",
       "      <th>description</th>\n",
       "      <th>tags</th>\n",
       "      <th>duration</th>\n",
       "      <th>commentCount</th>\n",
       "      <th>dislikeCount</th>\n",
       "      <th>likeCount</th>\n",
       "      <th>viewCount</th>\n",
       "      <th>topic</th>\n",
       "    </tr>\n",
       "  </thead>\n",
       "  <tbody>\n",
       "    <tr>\n",
       "      <th>3147</th>\n",
       "      <td>3147</td>\n",
       "      <td>Do schools kill creativity? | Sir Ken Robinson</td>\n",
       "      <td>iG9CE55wbtY</td>\n",
       "      <td>2007-01-07T05:00:34.000Z</td>\n",
       "      <td>Sir Ken Robinson makes an entertaining and pro...</td>\n",
       "      <td>['Ken', 'Robinson', 'TED', 'TEDTalks', 'Talks'...</td>\n",
       "      <td>PT20M4S</td>\n",
       "      <td>10141.0</td>\n",
       "      <td>3114.0</td>\n",
       "      <td>183889.0</td>\n",
       "      <td>17846400</td>\n",
       "      <td>['https://en.wikipedia.org/wiki/Television_pro...</td>\n",
       "    </tr>\n",
       "    <tr>\n",
       "      <th>3148</th>\n",
       "      <td>3148</td>\n",
       "      <td>Greening the ghetto | Majora Carter</td>\n",
       "      <td>gQ-cZRmHfs4</td>\n",
       "      <td>2007-01-07T04:18:33.000Z</td>\n",
       "      <td>http://www.ted.com  In an emotionally charged ...</td>\n",
       "      <td>['Majora', 'Carter', 'TED', 'TEDTalks', 'TED20...</td>\n",
       "      <td>PT19M16S</td>\n",
       "      <td>81.0</td>\n",
       "      <td>46.0</td>\n",
       "      <td>1261.0</td>\n",
       "      <td>151888</td>\n",
       "      <td>['https://en.wikipedia.org/wiki/Entertainment'...</td>\n",
       "    </tr>\n",
       "    <tr>\n",
       "      <th>3149</th>\n",
       "      <td>3149</td>\n",
       "      <td>Dean Ornish: The world's killer diet</td>\n",
       "      <td>RTIY66IPjdY</td>\n",
       "      <td>2007-01-06T23:47:40.000Z</td>\n",
       "      <td>http://www.ted.com  Stop wringing your hands o...</td>\n",
       "      <td>['Dean', 'Ornish', 'TED', 'Conference', 'TED20...</td>\n",
       "      <td>PT3M35S</td>\n",
       "      <td>73.0</td>\n",
       "      <td>46.0</td>\n",
       "      <td>516.0</td>\n",
       "      <td>96635</td>\n",
       "      <td>['https://en.wikipedia.org/wiki/Society']</td>\n",
       "    </tr>\n",
       "    <tr>\n",
       "      <th>3150</th>\n",
       "      <td>3150</td>\n",
       "      <td>Secrets of success in 8 words, 3 minutes | Ric...</td>\n",
       "      <td>Y6bbMQXQ180</td>\n",
       "      <td>2007-01-06T19:53:49.000Z</td>\n",
       "      <td>http://www.ted.com  Why do people succeed? Is ...</td>\n",
       "      <td>['Richard St. John', 'Richard John', 'TED', 'T...</td>\n",
       "      <td>PT3M47S</td>\n",
       "      <td>468.0</td>\n",
       "      <td>473.0</td>\n",
       "      <td>27518.0</td>\n",
       "      <td>2255409</td>\n",
       "      <td>['https://en.wikipedia.org/wiki/Society']</td>\n",
       "    </tr>\n",
       "    <tr>\n",
       "      <th>3151</th>\n",
       "      <td>3151</td>\n",
       "      <td>If I controlled the Internet | Rives</td>\n",
       "      <td>gu_PQBmk-6c</td>\n",
       "      <td>2006-12-25T17:58:08.000Z</td>\n",
       "      <td>http://www.ted.com  How many poets could cram ...</td>\n",
       "      <td>['Rives', 'TED', 'TEDTalks', 'talks', 'spoken ...</td>\n",
       "      <td>PT4M17S</td>\n",
       "      <td>216.0</td>\n",
       "      <td>145.0</td>\n",
       "      <td>2907.0</td>\n",
       "      <td>332258</td>\n",
       "      <td>['https://en.wikipedia.org/wiki/Entertainment']</td>\n",
       "    </tr>\n",
       "  </tbody>\n",
       "</table>\n",
       "</div>"
      ],
      "text/plain": [
       "      Unnamed: 0                                              title  \\\n",
       "3147        3147     Do schools kill creativity? | Sir Ken Robinson   \n",
       "3148        3148                Greening the ghetto | Majora Carter   \n",
       "3149        3149               Dean Ornish: The world's killer diet   \n",
       "3150        3150  Secrets of success in 8 words, 3 minutes | Ric...   \n",
       "3151        3151               If I controlled the Internet | Rives   \n",
       "\n",
       "          videoId               publishedAt  \\\n",
       "3147  iG9CE55wbtY  2007-01-07T05:00:34.000Z   \n",
       "3148  gQ-cZRmHfs4  2007-01-07T04:18:33.000Z   \n",
       "3149  RTIY66IPjdY  2007-01-06T23:47:40.000Z   \n",
       "3150  Y6bbMQXQ180  2007-01-06T19:53:49.000Z   \n",
       "3151  gu_PQBmk-6c  2006-12-25T17:58:08.000Z   \n",
       "\n",
       "                                            description  \\\n",
       "3147  Sir Ken Robinson makes an entertaining and pro...   \n",
       "3148  http://www.ted.com  In an emotionally charged ...   \n",
       "3149  http://www.ted.com  Stop wringing your hands o...   \n",
       "3150  http://www.ted.com  Why do people succeed? Is ...   \n",
       "3151  http://www.ted.com  How many poets could cram ...   \n",
       "\n",
       "                                                   tags  duration  \\\n",
       "3147  ['Ken', 'Robinson', 'TED', 'TEDTalks', 'Talks'...   PT20M4S   \n",
       "3148  ['Majora', 'Carter', 'TED', 'TEDTalks', 'TED20...  PT19M16S   \n",
       "3149  ['Dean', 'Ornish', 'TED', 'Conference', 'TED20...   PT3M35S   \n",
       "3150  ['Richard St. John', 'Richard John', 'TED', 'T...   PT3M47S   \n",
       "3151  ['Rives', 'TED', 'TEDTalks', 'talks', 'spoken ...   PT4M17S   \n",
       "\n",
       "      commentCount  dislikeCount  likeCount  viewCount  \\\n",
       "3147       10141.0        3114.0   183889.0   17846400   \n",
       "3148          81.0          46.0     1261.0     151888   \n",
       "3149          73.0          46.0      516.0      96635   \n",
       "3150         468.0         473.0    27518.0    2255409   \n",
       "3151         216.0         145.0     2907.0     332258   \n",
       "\n",
       "                                                  topic  \n",
       "3147  ['https://en.wikipedia.org/wiki/Television_pro...  \n",
       "3148  ['https://en.wikipedia.org/wiki/Entertainment'...  \n",
       "3149          ['https://en.wikipedia.org/wiki/Society']  \n",
       "3150          ['https://en.wikipedia.org/wiki/Society']  \n",
       "3151    ['https://en.wikipedia.org/wiki/Entertainment']  "
      ]
     },
     "execution_count": 6,
     "metadata": {},
     "output_type": "execute_result"
    }
   ],
   "source": [
    "ted_df = pd.read_csv('ted_df3.csv')\n",
    "ted_df.tail()"
   ]
  },
  {
   "cell_type": "code",
   "execution_count": 7,
   "metadata": {},
   "outputs": [
    {
     "data": {
      "text/plain": [
       "3147    iG9CE55wbtY\n",
       "3148    gQ-cZRmHfs4\n",
       "3149    RTIY66IPjdY\n",
       "3150    Y6bbMQXQ180\n",
       "3151    gu_PQBmk-6c\n",
       "Name: videoId, dtype: object"
      ]
     },
     "execution_count": 7,
     "metadata": {},
     "output_type": "execute_result"
    }
   ],
   "source": [
    "videoId = ted_df['videoId']\n",
    "videoId.tail()"
   ]
  },
  {
   "cell_type": "markdown",
   "metadata": {},
   "source": [
    "# Get comments from videos"
   ]
  },
  {
   "cell_type": "code",
   "execution_count": 8,
   "metadata": {},
   "outputs": [],
   "source": [
    "def get_comment_threads(youtube, video_id, comments):\n",
    "    threads = []\n",
    "    \n",
    "    commentThreads_request = youtube.commentThreads().list(\n",
    "        part=\"snippet\",\n",
    "        videoId = video_id,\n",
    "        textFormat=\"plainText\"\n",
    "    )\n",
    "\n",
    "    while commentThreads_request:\n",
    "        commentThreads_response = commentThreads_request.execute()\n",
    "        for item in commentThreads_response[\"items\"]:\n",
    "            threads.append(item)\n",
    "            comment = item[\"snippet\"][\"topLevelComment\"]\n",
    "            comment_videoId = comment[\"snippet\"][\"videoId\"]\n",
    "            comment_text = comment[\"snippet\"][\"textDisplay\"]\n",
    "            comments.append([comment_videoId, comment_text])\n",
    "            \n",
    "        commentThreads_request = youtube.commentThreads().list_next(commentThreads_request, commentThreads_response)\n",
    "        \n",
    "    print(\"Total threads: %d\" % len(threads))\n",
    "    return threads"
   ]
  },
  {
   "cell_type": "code",
   "execution_count": 9,
   "metadata": {},
   "outputs": [],
   "source": [
    "def get_comments(youtube, parent_id, comments):\n",
    "    results = youtube.comments().list(\n",
    "        part=\"snippet\",\n",
    "        parentId=parent_id,\n",
    "        textFormat=\"plainText\"\n",
    "    ).execute()\n",
    "    \n",
    "    for item in results[\"items\"]:\n",
    "        text = item[\"snippet\"][\"textDisplay\"]\n",
    "        \n",
    "    return comments"
   ]
  },
  {
   "cell_type": "code",
   "execution_count": 17,
   "metadata": {},
   "outputs": [
    {
     "name": "stdout",
     "output_type": "stream",
     "text": [
      "Total threads: 316\n",
      "Total threads: 184\n",
      "Total threads: 94\n",
      "Total threads: 38\n",
      "Total threads: 371\n",
      "Total threads: 86\n",
      "Total threads: 68\n",
      "Total threads: 113\n",
      "Total threads: 108\n",
      "Total threads: 71\n"
     ]
    }
   ],
   "source": [
    "# 1~10번째 동영상에 대한 댓글 추출\n",
    "total_comments = [['videoId', 'commentText']]\n",
    "\n",
    "for video in videoId[:10]:\n",
    "    comments = []\n",
    "    video_comment_threads = get_comment_threads(youtube, video, comments)\n",
    "\n",
    "    for thread in video_comment_threads:\n",
    "        #if thread['snippet']['totalReplyCount'] > 0:\n",
    "        get_comments(youtube, thread[\"id\"], comments)\n",
    "    total_comments.extend(comments)"
   ]
  },
  {
   "cell_type": "code",
   "execution_count": 22,
   "metadata": {},
   "outputs": [
    {
     "name": "stdout",
     "output_type": "stream",
     "text": [
      "Total threads: 58\n",
      "Total threads: 75\n",
      "Total threads: 222\n",
      "Total threads: 337\n",
      "Total threads: 48\n",
      "Total threads: 136\n",
      "Total threads: 141\n",
      "Total threads: 74\n",
      "Total threads: 156\n"
     ]
    }
   ],
   "source": [
    "# 11~20번째 동영상에 대한 댓글 추출\n",
    "total_comments = [['videoId', 'commentText']]\n",
    "\n",
    "for video in videoId[11:20]:\n",
    "    comments = []\n",
    "    video_comment_threads = get_comment_threads(youtube, video, comments)\n",
    "\n",
    "    for thread in video_comment_threads:\n",
    "        #if thread['snippet']['totalReplyCount'] > 0:\n",
    "        get_comments(youtube, thread[\"id\"], comments)\n",
    "    total_comments.extend(comments)"
   ]
  },
  {
   "cell_type": "code",
   "execution_count": 23,
   "metadata": {},
   "outputs": [
    {
     "data": {
      "text/plain": [
       "[['videoId', 'commentText'],\n",
       " ['lEjegKJwI0M', 'She read Derrida'],\n",
       " ['lEjegKJwI0M', \"she's brilliant!!\"],\n",
       " ['lEjegKJwI0M',\n",
       "  'Impresive!!! As an artist, the most horrible thing is to be stuck in the process of creation. I really love the way she enlightens herself to find new inspiration'],\n",
       " ['lEjegKJwI0M',\n",
       "  \"She has inspired me to be the artist she has become. Love this art. It's essentially saying we can make anything visible art. I like how in an age of everything digital she is bringing meaning to physical things and every object having true value.\"],\n",
       " ['lEjegKJwI0M', 'amazing'],\n",
       " ['lEjegKJwI0M',\n",
       "  'I always loved creating and watching art, i was very passionate about it. Then i needed to make money to live so i got a job in IT. Now life sucks.'],\n",
       " ['lEjegKJwI0M',\n",
       "  'really interesting -  to replicate and transpose the internal process of information reconstruction back out into the world, hall of mirrors'],\n",
       " ['lEjegKJwI0M', '벡남준 작품과 흡사 비슷해보이네요'],\n",
       " ['lEjegKJwI0M', 'Thanks, Youtube algorithm.'],\n",
       " ['lEjegKJwI0M', 'sure (said in artistic way)'],\n",
       " ['lEjegKJwI0M', 'Living Legend 💗💗'],\n",
       " ['lEjegKJwI0M',\n",
       "  'Your voice was way too annoying to listening to anything else.'],\n",
       " ['lEjegKJwI0M', 'that was overwhelmingly beautiful'],\n",
       " ['lEjegKJwI0M',\n",
       "  '2000 years of Earth time existence consciousness eternal 173. Universal consciousness.universal void.'],\n",
       " ['lEjegKJwI0M', 'Sugi'],\n",
       " ['lEjegKJwI0M',\n",
       "  \"If that's art, there's probably more then one meth head out there could build this for half the price 🤷\\u200d♂️\"],\n",
       " ['lEjegKJwI0M',\n",
       "  'I love the thought process that brought her here her work is so interesting'],\n",
       " ['lEjegKJwI0M',\n",
       "  'I love the thought process that brought her here her work is so interesting'],\n",
       " ['lEjegKJwI0M', 'who is ted and why does he talks so much'],\n",
       " ['lEjegKJwI0M', 'Anyone from India??'],\n",
       " ['lEjegKJwI0M',\n",
       "  '\"Where does a work of art begin?\"\\nWith a government handout, I suppose.'],\n",
       " ['lEjegKJwI0M', 'Aquarius, creator?'],\n",
       " ['lEjegKJwI0M',\n",
       "  'I love the thought process that brought her here her work is so interesting'],\n",
       " ['lEjegKJwI0M',\n",
       "  'TO SEE WITH EVERY FIBRE OF ONES BEING....a very interesting talk. With this ethic, life itself in a constant installation if we wish it to be..........'],\n",
       " ['lEjegKJwI0M', \"I guess one man's trash is another man's garbage?\"],\n",
       " ['lEjegKJwI0M', '>>>>>>>>>>cool'],\n",
       " ['lEjegKJwI0M',\n",
       "  'Personally I think art like is just stupid. It looks unattractive and makes no sense but supposedly it’s supposed to mean something'],\n",
       " ['lEjegKJwI0M',\n",
       "  'Supreme art is a traditional statement of certain heroic and religious truths, passed on from age to age, modified by individual genius, but never abandoned. The revolt of individualism came because the tradition had become degraded, or rather because a spurious copy had been accepted in its stead. [William Butler Yeats]'],\n",
       " ['lEjegKJwI0M', 'I love it!'],\n",
       " ['lEjegKJwI0M', 'Wow amazing'],\n",
       " ['lEjegKJwI0M', 'No'],\n",
       " ['lEjegKJwI0M',\n",
       "  \"The good thing about this kind of Art is that you don't need to understand it and you can give any meaning to it. 🤔\"],\n",
       " ['lEjegKJwI0M',\n",
       "  'Art that has to be in a museum to be considered art is not art.'],\n",
       " ['lEjegKJwI0M',\n",
       "  \"I don't know that I completely understand this, but sounds neat either way\"],\n",
       " ['lEjegKJwI0M',\n",
       "  'How about producing art that is actually aesthetically pleasing? NOOOOO that would be elitist and what not!'],\n",
       " ['lEjegKJwI0M', 'Deep. Pleasure divine.'],\n",
       " ['lEjegKJwI0M', 'awsum'],\n",
       " ['lEjegKJwI0M',\n",
       "  'Her work is actually good. Unlike most of the other \"modernist\" crap these days.'],\n",
       " ['lEjegKJwI0M',\n",
       "  'This is pretty similar to what architectural researchers do. Try to google Lebbeus Woods. He is an architect, but his practice was pretty close to an artist. Incredible'],\n",
       " ['lEjegKJwI0M', 'Some of it Look like my friends’ junk yard.'],\n",
       " ['lEjegKJwI0M',\n",
       "  'Of course the name of the store work should be:  INFORMATION OVERLOAD'],\n",
       " ['lEjegKJwI0M', \"I don't get it.\"],\n",
       " ['lEjegKJwI0M',\n",
       "  \"Sarah!!!! My 16 yr old daughter and my 33 yr old nephew...artists minds and hands. I SEE GOD'S word and gifts of who HE IS and how magnificent each pair of hands have different fingerprints for a reason and DNA. We are unique and special and beautiful because of the creation and creative majesty that is HIM in us. You rock. HE IS THE ROCK of a mighty fallen world and HIS foundation is unchanged it's light...and I see so much more beauty in history. HISTORY darkness will never shine this way. So beautiful sister in HIM.\"],\n",
       " ['lEjegKJwI0M', 'Woah.'],\n",
       " ['lEjegKJwI0M',\n",
       "  '\"I\" ,\"I\", \"I\".  Funny, thought it would be about art as a whole  not just one person. Retitle \"My Art by Sara\"'],\n",
       " ['lEjegKJwI0M', 'Compliments from Swat,kpk !'],\n",
       " ['lEjegKJwI0M',\n",
       "  'Hello guys, \\nHave a look at an amazing book summary of the book “Fake” by Robert Kiyosaki by clicking the links below. It also contains my views on various concepts.\\nIt is divided in three parts:\\n \\n1st part: Covers the concept of “FAKE MONEY”\\nFake: Fake Money Fake Teachers Fake Assets| Robert Kiyosaki | Book Summary | Part 1 (https://www.passionateinvestor.co.in/2019/09/fake-fake-money-fake-teachers-fake-assets-robert-kiyosaki-book-summary.html)\\n\\n2nd part: Covers the concept of “FAKE TEACHERS”\\nFake: Fake Money Fake Teachers Fake Assets| Robert Kiyosaki | Book Summary | Part 2 (https://www.passionateinvestor.co.in/2019/09/fake-fake-money-fake-teachers-fake-assets-robert-kiyosaki-book-summary-2.html)\\n\\n3rd part: Covers the concept of “FAKE ASSETS”\\nFake: Fake Money Fake Teachers Fake Assets| Robert Kiyosaki | Book Summary | Part 3 (https://www.passionateinvestor.co.in/2019/09/fake-fake-money-fake-teachers-fake-assets-robert-kiyosaki-book-summary-3.html)'],\n",
       " ['lEjegKJwI0M', 'Love it'],\n",
       " ['lEjegKJwI0M', 'Lot of love from kashmir Pakistan......'],\n",
       " ['lEjegKJwI0M', 'Who else keeps getting that chromebook ad?'],\n",
       " ['lEjegKJwI0M', 'Hats off 👌 💕'],\n",
       " ['lEjegKJwI0M', 'Great!'],\n",
       " ['lEjegKJwI0M', 'What is art role?'],\n",
       " ['lEjegKJwI0M', 'I am Ghulam Ali Balouch. Lot of love from Pakistan.'],\n",
       " ['lEjegKJwI0M', 'This was incredible!'],\n",
       " ['lEjegKJwI0M', 'first'],\n",
       " ['lEjegKJwI0M', 'First!'],\n",
       " ['lEjegKJwI0M', '헐'],\n",
       " ['fwvbx80QidM', 'Yes, yes. Yes and yes 👌🏾👌🏾'],\n",
       " ['fwvbx80QidM',\n",
       "  \"It's sad how much gatekeeping there still is in the mainstream creative industries all around the world. It only leads into narrow stereotypes, which suffocate creativity and alienate a huge portion of people from their fellow citizens. Instead of pushing difference into indie and underground subcultures, we should embrace them as valid parts of a more diverse mainstream.\"],\n",
       " ['fwvbx80QidM', 'nice video'],\n",
       " ['fwvbx80QidM', 'Does this show require zero credentials to speak on?'],\n",
       " ['fwvbx80QidM',\n",
       "  \"Racists see a black woman in the thumbnail and click on it, knowing they'll get angry no matter what she says lmao, go home\"],\n",
       " ['fwvbx80QidM', 'Her voice literally gave me goosebumps!! \\U0001f92f😍'],\n",
       " ['fwvbx80QidM', 'I felt this. And the music is 🔥🔥🔥🔥 she’s a 👑'],\n",
       " ['fwvbx80QidM',\n",
       "  'I love Ted Talks it covers so many subjects, can someone talk about fractional-reserve banking and how it’s destroying the world 🤷\\u200d♂️'],\n",
       " ['fwvbx80QidM', 'Keep on! ✊🏿🙌🏿'],\n",
       " ['fwvbx80QidM',\n",
       "  'Reminds me of the cgi canteena singer girl from episode 6\\n\\n\\n\\n\\n\\n\\n\\n\\nSTAR WARS....christ do I need to say star wars? Cmon, this is sad.'],\n",
       " ['fwvbx80QidM', 'Nice voice, girl!'],\n",
       " ['fwvbx80QidM', \"It's a shame most are corrupt & scammers.\"],\n",
       " ['fwvbx80QidM',\n",
       "  \"She is right 100%. The title caught me. The video didn't stream.\"],\n",
       " ['fwvbx80QidM',\n",
       "  'Her outfit reminds me of Judy Jetson, but like a Kenyan Judy Jetson.'],\n",
       " ['fwvbx80QidM', 'Great talk!'],\n",
       " ['fwvbx80QidM',\n",
       "  'white people should be saying the same thing about their cultures, societies and music.'],\n",
       " ['fwvbx80QidM', 'Get some adult clothing and get out the kids.'],\n",
       " ['fwvbx80QidM', 'المرجو ترجمة الفيديو إلى اللغة العربية.'],\n",
       " ['fwvbx80QidM',\n",
       "  \"How brilliant is she?? This isn't even my kind of music, but wow. Thoroughly enjoyed it.\"],\n",
       " ['fwvbx80QidM', 'from:MarvelEnglih'],\n",
       " ['fwvbx80QidM',\n",
       "  \"This is great. I can't understand why so many thumbs down. This message is very relevant\"],\n",
       " ['fwvbx80QidM',\n",
       "  'Otherism is worldwide issue. That is the cause for all illness.'],\n",
       " ['fwvbx80QidM',\n",
       "  \"All the white nationals are too obvious in the comments, if it's not your cup of tea you can just simply not watch the vid. This woman is doing nothing wrong and I like her vibe. Y'all  are too funny crying about SJW take over, Anti-African hate speech, her hair, her clothes, but Europeans did everything better in advancing science and tech blah blah blah. Who you trying to convince, me our yourself???\"],\n",
       " ['fwvbx80QidM', 'Lol all the ppl who click on Ted talks just to hate.'],\n",
       " ['fwvbx80QidM',\n",
       "  'Remember when TED was a place for intellectuals and not plastic bag singers?'],\n",
       " ['fwvbx80QidM',\n",
       "  \"I'm a Cameroonian Artist, into pop music and have always felt discriminated against because i wasn't Cameroonian Enough.  This story inspires me. Thank you Ted\"],\n",
       " ['fwvbx80QidM', \"*What's your favourite idea? Mine is being creative!*\"],\n",
       " ['fwvbx80QidM',\n",
       "  'meanwhile the leaders of the European union destroy great european nations.... (with ani-patriotism and with african and muslim migrants)'],\n",
       " ['fwvbx80QidM',\n",
       "  'Lol the People who create the circumstances of otherism feel excluded when we include others.  \\n\\nEveryone is different,  we just need to accept that everyone is not us and quit thinking that different means bad.'],\n",
       " ['fwvbx80QidM', 'Guess African countries have no creativity, huh?'],\n",
       " ['fwvbx80QidM', 'just Traditional experience'],\n",
       " ['fwvbx80QidM', 'Tripe.'],\n",
       " ['fwvbx80QidM', 'This fucking comment section, WTF'],\n",
       " ['fwvbx80QidM',\n",
       "  \"Can you really just call yourself a Drummer Queen? I mean shouldn't there be some kind of governmental process of assigning power in a orderly fashion? Or perhaps it could be decided who the drummer queen is in the village by gathering all the drummers together and using some sort of democratic vote to decide who the true Drummer Queen is? I would trust someone like this a lot more and I can believe in the process.\"],\n",
       " ['fwvbx80QidM',\n",
       "  \"me:\\nyoutube recommended: here's your daily dose of bullshit\"],\n",
       " ['fwvbx80QidM', 'All I see, I Love, for All is I! 🙏❤🌞\\n\\n@iamloveiam 💙'],\n",
       " ['fwvbx80QidM', 'She dressed like the new york knicks lmao'],\n",
       " ['fwvbx80QidM',\n",
       "  'This woman is railing against the practice of securing a market share by catering to the lowest common denominator. And then she makes it about colonialism. Does she really think that groups favoring acts that stick to a norm, is a foreign thing to kenya? Or any kind of artificial multiethnic nation for that matter. Boy will she be surprised when she visits to Asia...\\n \\nAnd then directly after making a heartfelt case for developing homegrown Kenyan industries, she goes to sing  song supporting the very immigration that is braindraining away the talent and youth from africa. Along with funneling their meager savings into the hands of people smugglers and slavers. \\n\\nApparently the west got rich and successful because we had elvis and jonny cash making music in the same timeframe, and not because of the scientists, engineers, doctors, and all those innovative industrialists.'],\n",
       " ['fwvbx80QidM', 'Anyone else not impressed?'],\n",
       " ['fwvbx80QidM',\n",
       "  'I GOT BORED IN LOS ANGELES AND STARTED TRAVELING THE WORLD CAN SOMONE TELL ME IF I SHOULD KEEP MAKING VIDEOS OR JUST LIKE QUIT?? Thanks'],\n",
       " ['fwvbx80QidM',\n",
       "  'So they dont play American pop music in Kenya? Sounds awesome.']]"
      ]
     },
     "execution_count": 23,
     "metadata": {},
     "output_type": "execute_result"
    }
   ],
   "source": [
    "total_comments[:100]"
   ]
  },
  {
   "cell_type": "markdown",
   "metadata": {},
   "source": [
    "# Save as a dataframe and a csv file"
   ]
  },
  {
   "cell_type": "code",
   "execution_count": 24,
   "metadata": {},
   "outputs": [
    {
     "data": {
      "text/html": [
       "<div>\n",
       "<style scoped>\n",
       "    .dataframe tbody tr th:only-of-type {\n",
       "        vertical-align: middle;\n",
       "    }\n",
       "\n",
       "    .dataframe tbody tr th {\n",
       "        vertical-align: top;\n",
       "    }\n",
       "\n",
       "    .dataframe thead th {\n",
       "        text-align: right;\n",
       "    }\n",
       "</style>\n",
       "<table border=\"1\" class=\"dataframe\">\n",
       "  <thead>\n",
       "    <tr style=\"text-align: right;\">\n",
       "      <th></th>\n",
       "      <th>videoId</th>\n",
       "      <th>commentText</th>\n",
       "    </tr>\n",
       "  </thead>\n",
       "  <tbody>\n",
       "    <tr>\n",
       "      <th>1242</th>\n",
       "      <td>Q6SY2nz5PJs</td>\n",
       "      <td>This is incredible.</td>\n",
       "    </tr>\n",
       "    <tr>\n",
       "      <th>1243</th>\n",
       "      <td>Q6SY2nz5PJs</td>\n",
       "      <td>💕</td>\n",
       "    </tr>\n",
       "    <tr>\n",
       "      <th>1244</th>\n",
       "      <td>Q6SY2nz5PJs</td>\n",
       "      <td>First</td>\n",
       "    </tr>\n",
       "    <tr>\n",
       "      <th>1245</th>\n",
       "      <td>Q6SY2nz5PJs</td>\n",
       "      <td>First also this is pure talent and hard work</td>\n",
       "    </tr>\n",
       "    <tr>\n",
       "      <th>1246</th>\n",
       "      <td>Q6SY2nz5PJs</td>\n",
       "      <td>Richard Bona is a masterpiece!</td>\n",
       "    </tr>\n",
       "  </tbody>\n",
       "</table>\n",
       "</div>"
      ],
      "text/plain": [
       "          videoId                                   commentText\n",
       "1242  Q6SY2nz5PJs                           This is incredible.\n",
       "1243  Q6SY2nz5PJs                                             💕\n",
       "1244  Q6SY2nz5PJs                                         First\n",
       "1245  Q6SY2nz5PJs  First also this is pure talent and hard work\n",
       "1246  Q6SY2nz5PJs                Richard Bona is a masterpiece!"
      ]
     },
     "execution_count": 24,
     "metadata": {},
     "output_type": "execute_result"
    }
   ],
   "source": [
    "headers = total_comments[0]\n",
    "\n",
    "comments_df = pd.DataFrame(total_comments[1:], columns=headers)\n",
    "comments_df.tail()"
   ]
  },
  {
   "cell_type": "code",
   "execution_count": 25,
   "metadata": {},
   "outputs": [
    {
     "data": {
      "text/plain": [
       "1247"
      ]
     },
     "execution_count": 25,
     "metadata": {},
     "output_type": "execute_result"
    }
   ],
   "source": [
    "len(comments_df)"
   ]
  },
  {
   "cell_type": "code",
   "execution_count": 26,
   "metadata": {},
   "outputs": [],
   "source": [
    "# CSV 파일로 추출\n",
    "comments_df.to_csv('ted_comments_df3_2.csv')"
   ]
  },
  {
   "cell_type": "code",
   "execution_count": null,
   "metadata": {},
   "outputs": [],
   "source": []
  }
 ],
 "metadata": {
  "kernelspec": {
   "display_name": "Python 3",
   "language": "python",
   "name": "python3"
  },
  "language_info": {
   "codemirror_mode": {
    "name": "ipython",
    "version": 3
   },
   "file_extension": ".py",
   "mimetype": "text/x-python",
   "name": "python",
   "nbconvert_exporter": "python",
   "pygments_lexer": "ipython3",
   "version": "3.6.8"
  }
 },
 "nbformat": 4,
 "nbformat_minor": 2
}
